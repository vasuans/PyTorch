{
  "nbformat": 4,
  "nbformat_minor": 0,
  "metadata": {
    "colab": {
      "name": "PyTorch Basics.ipynb",
      "provenance": [],
      "authorship_tag": "ABX9TyNHdnsn4w6nPS0qdQdGfIi5",
      "include_colab_link": true
    },
    "kernelspec": {
      "name": "python3",
      "display_name": "Python 3"
    }
  },
  "cells": [
    {
      "cell_type": "markdown",
      "metadata": {
        "id": "view-in-github",
        "colab_type": "text"
      },
      "source": [
        "<a href=\"https://colab.research.google.com/github/vasuans/PyTorch/blob/main/PyTorch_Basics.ipynb\" target=\"_parent\"><img src=\"https://colab.research.google.com/assets/colab-badge.svg\" alt=\"Open In Colab\"/></a>"
      ]
    },
    {
      "cell_type": "markdown",
      "metadata": {
        "id": "VrviiXhymM0p"
      },
      "source": [
        "**PyTorch Basics**"
      ]
    },
    {
      "cell_type": "code",
      "metadata": {
        "id": "nmRmH-xujF8s"
      },
      "source": [
        "import torch\n",
        "import numpy as np"
      ],
      "execution_count": null,
      "outputs": []
    },
    {
      "cell_type": "markdown",
      "metadata": {
        "id": "Y2hEX0b_mLr6"
      },
      "source": [
        "**Checking pyTorch version**"
      ]
    },
    {
      "cell_type": "code",
      "metadata": {
        "id": "xzgUp5Valu8O",
        "outputId": "eeb7665b-a20a-4912-aa59-346f15fe8001",
        "colab": {
          "base_uri": "https://localhost:8080/",
          "height": 35
        }
      },
      "source": [
        "torch.__version__"
      ],
      "execution_count": null,
      "outputs": [
        {
          "output_type": "execute_result",
          "data": {
            "application/vnd.google.colaboratory.intrinsic+json": {
              "type": "string"
            },
            "text/plain": [
              "'1.6.0+cu101'"
            ]
          },
          "metadata": {
            "tags": []
          },
          "execution_count": 2
        }
      ]
    },
    {
      "cell_type": "markdown",
      "metadata": {
        "id": "V4YiZzhLmncB"
      },
      "source": [
        "**Converting Numpy array to Torch tensor**"
      ]
    },
    {
      "cell_type": "code",
      "metadata": {
        "id": "XapyHFHAmkTU",
        "outputId": "0fc97601-aad2-45a0-bbe5-9c4517dcb99f",
        "colab": {
          "base_uri": "https://localhost:8080/",
          "height": 35
        }
      },
      "source": [
        "arr = np.array([1,2,3,4,5])\n",
        "type(arr)"
      ],
      "execution_count": null,
      "outputs": [
        {
          "output_type": "execute_result",
          "data": {
            "text/plain": [
              "numpy.ndarray"
            ]
          },
          "metadata": {
            "tags": []
          },
          "execution_count": 3
        }
      ]
    },
    {
      "cell_type": "markdown",
      "metadata": {
        "id": "DcCt4_L8nGJo"
      },
      "source": [
        "from_numpy is used to convert Numpy array to tensor."
      ]
    },
    {
      "cell_type": "code",
      "metadata": {
        "id": "Hgi5AoB4m1AC"
      },
      "source": [
        "x= torch.from_numpy(arr)"
      ],
      "execution_count": null,
      "outputs": []
    },
    {
      "cell_type": "code",
      "metadata": {
        "id": "2fsqHkt6nWh3",
        "outputId": "6060ff35-aa0b-4ba5-ff97-36f42a952e6b",
        "colab": {
          "base_uri": "https://localhost:8080/",
          "height": 35
        }
      },
      "source": [
        "type(x)"
      ],
      "execution_count": null,
      "outputs": [
        {
          "output_type": "execute_result",
          "data": {
            "text/plain": [
              "torch.Tensor"
            ]
          },
          "metadata": {
            "tags": []
          },
          "execution_count": 5
        }
      ]
    },
    {
      "cell_type": "code",
      "metadata": {
        "id": "HvAw6ylXngzA",
        "outputId": "b57aecc5-70b4-46bd-93c2-179e14f95250",
        "colab": {
          "base_uri": "https://localhost:8080/",
          "height": 35
        }
      },
      "source": [
        "x"
      ],
      "execution_count": null,
      "outputs": [
        {
          "output_type": "execute_result",
          "data": {
            "text/plain": [
              "tensor([1, 2, 3, 4, 5])"
            ]
          },
          "metadata": {
            "tags": []
          },
          "execution_count": 6
        }
      ]
    },
    {
      "cell_type": "code",
      "metadata": {
        "id": "6hMSjJRanndX",
        "outputId": "be5e3d80-ff4b-4052-bf38-2c5b9641a31a",
        "colab": {
          "base_uri": "https://localhost:8080/",
          "height": 35
        }
      },
      "source": [
        "x.dtype"
      ],
      "execution_count": null,
      "outputs": [
        {
          "output_type": "execute_result",
          "data": {
            "text/plain": [
              "torch.int64"
            ]
          },
          "metadata": {
            "tags": []
          },
          "execution_count": 7
        }
      ]
    },
    {
      "cell_type": "markdown",
      "metadata": {
        "id": "BsV1chlnnrPX"
      },
      "source": [
        "**Converting two dimentional numpy array to Tensor**"
      ]
    },
    {
      "cell_type": "code",
      "metadata": {
        "id": "xnC_XrdvnpIQ"
      },
      "source": [
        "arr2d = np.arange(0.0,12.0)"
      ],
      "execution_count": null,
      "outputs": []
    },
    {
      "cell_type": "code",
      "metadata": {
        "id": "Go3jLRAzoDYY"
      },
      "source": [
        "arr2d = arr2d.reshape(4,3)"
      ],
      "execution_count": null,
      "outputs": []
    },
    {
      "cell_type": "code",
      "metadata": {
        "id": "Qu4TyCwwn243"
      },
      "source": [
        "x2 = torch.from_numpy(arr2d)"
      ],
      "execution_count": null,
      "outputs": []
    },
    {
      "cell_type": "code",
      "metadata": {
        "id": "4HQEha0zoL1k",
        "outputId": "fe0adec0-6b78-4792-ce02-b75b0c494d81",
        "colab": {
          "base_uri": "https://localhost:8080/",
          "height": 88
        }
      },
      "source": [
        "x2"
      ],
      "execution_count": null,
      "outputs": [
        {
          "output_type": "execute_result",
          "data": {
            "text/plain": [
              "tensor([[ 0.,  1.,  2.],\n",
              "        [ 3.,  4.,  5.],\n",
              "        [ 6.,  7.,  8.],\n",
              "        [ 9., 10., 11.]], dtype=torch.float64)"
            ]
          },
          "metadata": {
            "tags": []
          },
          "execution_count": 11
        }
      ]
    },
    {
      "cell_type": "markdown",
      "metadata": {
        "id": "jLgKEhO-oc0p"
      },
      "source": [
        "**'from_numpy' keeps relation between original numpy array and tensor. Which means when you change any value in tensor that value gets updated in numpy array and vice versa.**"
      ]
    },
    {
      "cell_type": "code",
      "metadata": {
        "id": "gbiAXHjaoNQg"
      },
      "source": [
        "arr[0]= 99"
      ],
      "execution_count": null,
      "outputs": []
    },
    {
      "cell_type": "code",
      "metadata": {
        "id": "DomeKPMsp9K2",
        "outputId": "1486caad-35fc-4322-d3d8-404232c58b5a",
        "colab": {
          "base_uri": "https://localhost:8080/",
          "height": 35
        }
      },
      "source": [
        "x"
      ],
      "execution_count": null,
      "outputs": [
        {
          "output_type": "execute_result",
          "data": {
            "text/plain": [
              "tensor([99,  2,  3,  4,  5])"
            ]
          },
          "metadata": {
            "tags": []
          },
          "execution_count": 13
        }
      ]
    },
    {
      "cell_type": "markdown",
      "metadata": {
        "id": "CHtSV9Nirgo-"
      },
      "source": [
        "**tensor function can be used to avoid this relation. So basically .tensor will create a copy of numpy array.**\n"
      ]
    },
    {
      "cell_type": "code",
      "metadata": {
        "id": "PVNNI9cwp97q"
      },
      "source": [
        "my_arr = np.arange(0,10)"
      ],
      "execution_count": null,
      "outputs": []
    },
    {
      "cell_type": "code",
      "metadata": {
        "id": "cxYWajNOrsUo",
        "outputId": "6ad8f5ec-ba6c-4cca-b3f9-d9de8c375e9e",
        "colab": {
          "base_uri": "https://localhost:8080/",
          "height": 35
        }
      },
      "source": [
        "my_arr"
      ],
      "execution_count": null,
      "outputs": [
        {
          "output_type": "execute_result",
          "data": {
            "text/plain": [
              "array([0, 1, 2, 3, 4, 5, 6, 7, 8, 9])"
            ]
          },
          "metadata": {
            "tags": []
          },
          "execution_count": 15
        }
      ]
    },
    {
      "cell_type": "code",
      "metadata": {
        "id": "E4xvUQrHrt3z"
      },
      "source": [
        "my_tensor = torch.tensor(my_arr)"
      ],
      "execution_count": null,
      "outputs": []
    },
    {
      "cell_type": "code",
      "metadata": {
        "id": "_V5Z-GpCrzUt",
        "outputId": "1e14f2b6-4ea7-4e3f-bba8-037ed32c3bfd",
        "colab": {
          "base_uri": "https://localhost:8080/",
          "height": 35
        }
      },
      "source": [
        "my_tensor"
      ],
      "execution_count": null,
      "outputs": [
        {
          "output_type": "execute_result",
          "data": {
            "text/plain": [
              "tensor([0, 1, 2, 3, 4, 5, 6, 7, 8, 9])"
            ]
          },
          "metadata": {
            "tags": []
          },
          "execution_count": 17
        }
      ]
    },
    {
      "cell_type": "markdown",
      "metadata": {
        "id": "wZF1d1LBr3SP"
      },
      "source": [
        "**Now even if we update original array, tensor will not get update**"
      ]
    },
    {
      "cell_type": "code",
      "metadata": {
        "id": "Nxz97Xior0pR",
        "outputId": "3a1f9781-ace2-4671-8c49-712c7ef044f0",
        "colab": {
          "base_uri": "https://localhost:8080/",
          "height": 35
        }
      },
      "source": [
        "my_arr[0] = 99\n",
        "my_arr"
      ],
      "execution_count": null,
      "outputs": [
        {
          "output_type": "execute_result",
          "data": {
            "text/plain": [
              "array([99,  1,  2,  3,  4,  5,  6,  7,  8,  9])"
            ]
          },
          "metadata": {
            "tags": []
          },
          "execution_count": 18
        }
      ]
    },
    {
      "cell_type": "code",
      "metadata": {
        "id": "QIEULHngr_cN",
        "outputId": "dd267165-1a31-435f-ee0c-d796ecf1b313",
        "colab": {
          "base_uri": "https://localhost:8080/",
          "height": 35
        }
      },
      "source": [
        "my_tensor"
      ],
      "execution_count": null,
      "outputs": [
        {
          "output_type": "execute_result",
          "data": {
            "text/plain": [
              "tensor([0, 1, 2, 3, 4, 5, 6, 7, 8, 9])"
            ]
          },
          "metadata": {
            "tags": []
          },
          "execution_count": 19
        }
      ]
    },
    {
      "cell_type": "markdown",
      "metadata": {
        "id": "UqAQfDBdscxr"
      },
      "source": [
        "Difference between **t**orch and **T**orch\n",
        "\n",
        "\n",
        "\n",
        "*   Torch will create floating tensor.\n",
        "*   torch will create integer tensor.\n",
        "\n",
        "\n",
        "\n"
      ]
    },
    {
      "cell_type": "code",
      "metadata": {
        "id": "mHC_1gZSsAtF"
      },
      "source": [
        "new_arr = np.array([1,2,3])"
      ],
      "execution_count": null,
      "outputs": []
    },
    {
      "cell_type": "code",
      "metadata": {
        "id": "moWW5mgOtek3"
      },
      "source": [
        "my_tensor = torch.Tensor(new_arr)"
      ],
      "execution_count": null,
      "outputs": []
    },
    {
      "cell_type": "code",
      "metadata": {
        "id": "EIEm8zQ-toJp",
        "outputId": "988d8501-0e22-46b9-e694-c9dd10b153b7",
        "colab": {
          "base_uri": "https://localhost:8080/",
          "height": 35
        }
      },
      "source": [
        "my_tensor.dtype"
      ],
      "execution_count": null,
      "outputs": [
        {
          "output_type": "execute_result",
          "data": {
            "text/plain": [
              "torch.float32"
            ]
          },
          "metadata": {
            "tags": []
          },
          "execution_count": 22
        }
      ]
    },
    {
      "cell_type": "code",
      "metadata": {
        "id": "phkhMrX-tq0m"
      },
      "source": [
        "my_int_tensor = torch.tensor(new_arr)"
      ],
      "execution_count": null,
      "outputs": []
    },
    {
      "cell_type": "code",
      "metadata": {
        "id": "iFj_5JnPt8Se",
        "outputId": "34b7ff78-c0b9-4222-9cfd-71ef64b3647f",
        "colab": {
          "base_uri": "https://localhost:8080/",
          "height": 35
        }
      },
      "source": [
        "my_int_tensor.dtype"
      ],
      "execution_count": null,
      "outputs": [
        {
          "output_type": "execute_result",
          "data": {
            "text/plain": [
              "torch.int64"
            ]
          },
          "metadata": {
            "tags": []
          },
          "execution_count": 24
        }
      ]
    },
    {
      "cell_type": "markdown",
      "metadata": {
        "id": "DPmf8MzAuAla"
      },
      "source": [
        "**Creating tensors from scrach using pyTorch**"
      ]
    },
    {
      "cell_type": "code",
      "metadata": {
        "id": "gwPYTeCmt-y6",
        "outputId": "e92d6599-627c-4ddf-c823-0529eba2e6cb",
        "colab": {
          "base_uri": "https://localhost:8080/",
          "height": 88
        }
      },
      "source": [
        "# Creating empty array for place holder\n",
        "torch.empty(4,2)"
      ],
      "execution_count": null,
      "outputs": [
        {
          "output_type": "execute_result",
          "data": {
            "text/plain": [
              "tensor([[2.6355e-37, 0.0000e+00],\n",
              "        [3.3631e-44, 0.0000e+00],\n",
              "        [       nan, 4.5731e+07],\n",
              "        [1.1578e+27, 1.1362e+30]])"
            ]
          },
          "metadata": {
            "tags": []
          },
          "execution_count": 25
        }
      ]
    },
    {
      "cell_type": "code",
      "metadata": {
        "id": "NR3Km_hsyxkD",
        "outputId": "c79c9c38-f6ee-4b5e-c40e-de39a014ce7f",
        "colab": {
          "base_uri": "https://localhost:8080/",
          "height": 88
        }
      },
      "source": [
        "#creating zero array\n",
        "torch.zeros(4,3)"
      ],
      "execution_count": null,
      "outputs": [
        {
          "output_type": "execute_result",
          "data": {
            "text/plain": [
              "tensor([[0., 0., 0.],\n",
              "        [0., 0., 0.],\n",
              "        [0., 0., 0.],\n",
              "        [0., 0., 0.]])"
            ]
          },
          "metadata": {
            "tags": []
          },
          "execution_count": 26
        }
      ]
    },
    {
      "cell_type": "code",
      "metadata": {
        "id": "BYBFjtzyy3VL",
        "outputId": "5962b144-7330-4010-df7b-567f302e6651",
        "colab": {
          "base_uri": "https://localhost:8080/",
          "height": 88
        }
      },
      "source": [
        "#Creating ones array\n",
        "torch.ones(4,3)"
      ],
      "execution_count": null,
      "outputs": [
        {
          "output_type": "execute_result",
          "data": {
            "text/plain": [
              "tensor([[1., 1., 1.],\n",
              "        [1., 1., 1.],\n",
              "        [1., 1., 1.],\n",
              "        [1., 1., 1.]])"
            ]
          },
          "metadata": {
            "tags": []
          },
          "execution_count": 27
        }
      ]
    },
    {
      "cell_type": "code",
      "metadata": {
        "id": "Nbn2m_hRzAY-",
        "outputId": "776506b0-7e1a-410a-b183-f9fb2d4bc4b0",
        "colab": {
          "base_uri": "https://localhost:8080/",
          "height": 35
        }
      },
      "source": [
        "#creating Range of values\n",
        "torch.arange(0,18,2)"
      ],
      "execution_count": null,
      "outputs": [
        {
          "output_type": "execute_result",
          "data": {
            "text/plain": [
              "tensor([ 0,  2,  4,  6,  8, 10, 12, 14, 16])"
            ]
          },
          "metadata": {
            "tags": []
          },
          "execution_count": 28
        }
      ]
    },
    {
      "cell_type": "code",
      "metadata": {
        "id": "w4xroFpE4-H6",
        "outputId": "a620f26a-225c-43c4-bfab-0f7a3a8977fc",
        "colab": {
          "base_uri": "https://localhost:8080/",
          "height": 70
        }
      },
      "source": [
        "#Reshape tensor\n",
        "torch.arange(0,18,2).reshape(3,3)\n"
      ],
      "execution_count": null,
      "outputs": [
        {
          "output_type": "execute_result",
          "data": {
            "text/plain": [
              "tensor([[ 0,  2,  4],\n",
              "        [ 6,  8, 10],\n",
              "        [12, 14, 16]])"
            ]
          },
          "metadata": {
            "tags": []
          },
          "execution_count": 29
        }
      ]
    },
    {
      "cell_type": "code",
      "metadata": {
        "id": "2O2HjeHm6PCc",
        "outputId": "f3a1be77-15ea-471d-a596-49c9d73173e2",
        "colab": {
          "base_uri": "https://localhost:8080/",
          "height": 88
        }
      },
      "source": [
        "#Generate Linear values between two numbers\n",
        "torch.linspace(0,18,12).reshape(4,3)"
      ],
      "execution_count": null,
      "outputs": [
        {
          "output_type": "execute_result",
          "data": {
            "text/plain": [
              "tensor([[ 0.0000,  1.6364,  3.2727],\n",
              "        [ 4.9091,  6.5455,  8.1818],\n",
              "        [ 9.8182, 11.4545, 13.0909],\n",
              "        [14.7273, 16.3636, 18.0000]])"
            ]
          },
          "metadata": {
            "tags": []
          },
          "execution_count": 30
        }
      ]
    },
    {
      "cell_type": "code",
      "metadata": {
        "id": "IFRo2I_S7YIW"
      },
      "source": [
        "my_tensor= torch.tensor([1,2,3])"
      ],
      "execution_count": null,
      "outputs": []
    },
    {
      "cell_type": "code",
      "metadata": {
        "id": "QxFdKhZR7ycw",
        "outputId": "948697a6-1365-49ff-a56d-1c57714f6be0",
        "colab": {
          "base_uri": "https://localhost:8080/",
          "height": 35
        }
      },
      "source": [
        "my_tensor.dtype"
      ],
      "execution_count": null,
      "outputs": [
        {
          "output_type": "execute_result",
          "data": {
            "text/plain": [
              "torch.int64"
            ]
          },
          "metadata": {
            "tags": []
          },
          "execution_count": 32
        }
      ]
    },
    {
      "cell_type": "code",
      "metadata": {
        "id": "H5uhojps70sl"
      },
      "source": [
        "# change datatype of tensor\n",
        "my_tensor=my_tensor.type(torch.int32)"
      ],
      "execution_count": null,
      "outputs": []
    },
    {
      "cell_type": "code",
      "metadata": {
        "id": "zkHZJdjr78J2",
        "outputId": "db77d5cb-91b9-42e9-8224-8be8659f8137",
        "colab": {
          "base_uri": "https://localhost:8080/",
          "height": 35
        }
      },
      "source": [
        "my_tensor.dtype"
      ],
      "execution_count": null,
      "outputs": [
        {
          "output_type": "execute_result",
          "data": {
            "text/plain": [
              "torch.int32"
            ]
          },
          "metadata": {
            "tags": []
          },
          "execution_count": 34
        }
      ]
    },
    {
      "cell_type": "code",
      "metadata": {
        "id": "c0jxzv5f7-QL",
        "outputId": "7026821e-1270-4713-9161-d881ce0d782e",
        "colab": {
          "base_uri": "https://localhost:8080/",
          "height": 88
        }
      },
      "source": [
        "#Generate Random numbers\n",
        "torch.rand(4,3)"
      ],
      "execution_count": null,
      "outputs": [
        {
          "output_type": "execute_result",
          "data": {
            "text/plain": [
              "tensor([[0.8766, 0.4394, 0.7636],\n",
              "        [0.8563, 0.0520, 0.3943],\n",
              "        [0.7226, 0.9149, 0.9641],\n",
              "        [0.8014, 0.8792, 0.2943]])"
            ]
          },
          "metadata": {
            "tags": []
          },
          "execution_count": 35
        }
      ]
    },
    {
      "cell_type": "code",
      "metadata": {
        "id": "C0YsX8KG8HTs",
        "outputId": "4689f52e-9f5f-4cc8-9e5e-f71daa994d11",
        "colab": {
          "base_uri": "https://localhost:8080/",
          "height": 88
        }
      },
      "source": [
        "# Generate random standard distribution\n",
        "torch.randn(4,3)"
      ],
      "execution_count": null,
      "outputs": [
        {
          "output_type": "execute_result",
          "data": {
            "text/plain": [
              "tensor([[-0.2985, -1.6604,  0.5627],\n",
              "        [ 1.0410,  1.7555, -1.0045],\n",
              "        [ 1.0719, -0.6975, -0.3069],\n",
              "        [ 0.1395,  1.2338, -1.1950]])"
            ]
          },
          "metadata": {
            "tags": []
          },
          "execution_count": 36
        }
      ]
    },
    {
      "cell_type": "code",
      "metadata": {
        "id": "tnAPANzv8Uno"
      },
      "source": [
        "#Generate random number like another tensor\n",
        "x=torch.zeros(2,5)\n",
        "my_t = torch.rand_like(x)"
      ],
      "execution_count": null,
      "outputs": []
    },
    {
      "cell_type": "code",
      "metadata": {
        "id": "PJgcmk1t891K",
        "outputId": "a564a200-9c52-49d3-f06a-1d371415d5ca",
        "colab": {
          "base_uri": "https://localhost:8080/",
          "height": 52
        }
      },
      "source": [
        "my_t"
      ],
      "execution_count": null,
      "outputs": [
        {
          "output_type": "execute_result",
          "data": {
            "text/plain": [
              "tensor([[1.4484e-01, 9.3758e-01, 4.1354e-04, 5.0174e-02, 8.6420e-01],\n",
              "        [8.0414e-01, 7.9744e-01, 3.3768e-02, 1.4932e-01, 4.1417e-01]])"
            ]
          },
          "metadata": {
            "tags": []
          },
          "execution_count": 38
        }
      ]
    },
    {
      "cell_type": "code",
      "metadata": {
        "id": "tc229O-j8_Im",
        "outputId": "08633e8b-68c2-425e-e840-ee9dbdf16ac2",
        "colab": {
          "base_uri": "https://localhost:8080/",
          "height": 35
        }
      },
      "source": [
        "#setting seed for randon values\n",
        "torch.manual_seed(42)"
      ],
      "execution_count": null,
      "outputs": [
        {
          "output_type": "execute_result",
          "data": {
            "text/plain": [
              "<torch._C.Generator at 0x7fe46f8375a0>"
            ]
          },
          "metadata": {
            "tags": []
          },
          "execution_count": 39
        }
      ]
    },
    {
      "cell_type": "code",
      "metadata": {
        "id": "C6HkzCqp9GgH",
        "outputId": "995aac3e-337c-485d-911a-5535f9f75051",
        "colab": {
          "base_uri": "https://localhost:8080/",
          "height": 52
        }
      },
      "source": [
        "# Same random values will get generated every time\n",
        "torch.rand(2,3)"
      ],
      "execution_count": null,
      "outputs": [
        {
          "output_type": "execute_result",
          "data": {
            "text/plain": [
              "tensor([[0.8823, 0.9150, 0.3829],\n",
              "        [0.9593, 0.3904, 0.6009]])"
            ]
          },
          "metadata": {
            "tags": []
          },
          "execution_count": 40
        }
      ]
    },
    {
      "cell_type": "code",
      "metadata": {
        "id": "5y9fXPN6Gg6D",
        "outputId": "64241dae-e7c4-474a-d1cb-671ba6e87ed0",
        "colab": {
          "base_uri": "https://localhost:8080/",
          "height": 106
        }
      },
      "source": [
        "# Generate randor integers between two numbers\n",
        "\n",
        "torch.randint(low = 0, high = 11 , size = (5,5))"
      ],
      "execution_count": null,
      "outputs": [
        {
          "output_type": "execute_result",
          "data": {
            "text/plain": [
              "tensor([[ 3,  0,  8,  2,  1],\n",
              "        [10,  3,  4,  2,  0],\n",
              "        [ 4,  3,  6,  9, 10],\n",
              "        [ 8,  9,  6,  3,  0],\n",
              "        [ 1, 10,  3,  4,  3]])"
            ]
          },
          "metadata": {
            "tags": []
          },
          "execution_count": 41
        }
      ]
    },
    {
      "cell_type": "markdown",
      "metadata": {
        "id": "2obJH2FuAHXu"
      },
      "source": [
        "# **Tensor Operations**"
      ]
    },
    {
      "cell_type": "code",
      "metadata": {
        "id": "dQcIJCTu_ziR"
      },
      "source": [
        "#Reshape an array\n",
        "x = torch.arange(6).reshape(3,2)"
      ],
      "execution_count": null,
      "outputs": []
    },
    {
      "cell_type": "code",
      "metadata": {
        "id": "etTMwWRaAd85",
        "outputId": "795797e7-0c40-45d3-85d0-fc2a80b47753",
        "colab": {
          "base_uri": "https://localhost:8080/",
          "height": 35
        }
      },
      "source": [
        "#Get columns as array\n",
        "x[:,1]"
      ],
      "execution_count": null,
      "outputs": [
        {
          "output_type": "execute_result",
          "data": {
            "text/plain": [
              "tensor([1, 3, 5])"
            ]
          },
          "metadata": {
            "tags": []
          },
          "execution_count": 46
        }
      ]
    },
    {
      "cell_type": "code",
      "metadata": {
        "id": "5fTcvNlXArff",
        "outputId": "9b3b50ed-c2fa-4660-df8f-d3f15fc2c445",
        "colab": {
          "base_uri": "https://localhost:8080/",
          "height": 70
        }
      },
      "source": [
        "# get column as column array\n",
        "x[:,1:]"
      ],
      "execution_count": null,
      "outputs": [
        {
          "output_type": "execute_result",
          "data": {
            "text/plain": [
              "tensor([[1],\n",
              "        [3],\n",
              "        [5]])"
            ]
          },
          "metadata": {
            "tags": []
          },
          "execution_count": 47
        }
      ]
    },
    {
      "cell_type": "code",
      "metadata": {
        "id": "sL6J4-vaAxWv"
      },
      "source": [
        "# View vs Reshape\n"
      ],
      "execution_count": null,
      "outputs": []
    }
  ]
}